{
 "cells": [
  {
   "cell_type": "code",
   "execution_count": 1,
   "id": "dd65373f",
   "metadata": {},
   "outputs": [],
   "source": [
    "import pandas as pd\n",
    "import numpy as np\n",
    "import pdb"
   ]
  },
  {
   "cell_type": "code",
   "execution_count": 2,
   "id": "fa1b9623",
   "metadata": {},
   "outputs": [],
   "source": [
    "\n",
    "\n",
    "Tonset_fit = [-139.75, -981.66, 2798.28]\n",
    "Gamma_fit = [-0.021, 0.00377]\n"
   ]
  },
  {
   "cell_type": "code",
   "execution_count": 45,
   "id": "4b2ecd3a",
   "metadata": {},
   "outputs": [],
   "source": [
    "names = ['m', 'b']\n",
    "table = [Gamma_fit[0], Gamma_fit[1]]\n",
    "df = pd.DataFrame([table], columns=names)\n",
    "df.to_csv('/home/lewis/Documents/Honours_Research/data/csv/Table/Gamma_fit.csv',index=False, header=names, sep=',')"
   ]
  },
  {
   "cell_type": "code",
   "execution_count": 43,
   "id": "4fd0499d",
   "metadata": {},
   "outputs": [],
   "source": [
    "names = ['a', 'b', 'c']\n",
    "table = [Tonset_fit[0],Tonset_fit[1],Tonset_fit[2]]\n",
    "df = pd.DataFrame([table], columns=names)\n",
    "df.to_csv('/home/lewis/Documents/Honours_Research/data/csv/Table/Tonset_fit.csv',index = False, header=names, sep=',')"
   ]
  },
  {
   "cell_type": "code",
   "execution_count": 50,
   "id": "277523bf",
   "metadata": {},
   "outputs": [
    {
     "data": {
      "text/html": [
       "<div>\n",
       "<style scoped>\n",
       "    .dataframe tbody tr th:only-of-type {\n",
       "        vertical-align: middle;\n",
       "    }\n",
       "\n",
       "    .dataframe tbody tr th {\n",
       "        vertical-align: top;\n",
       "    }\n",
       "\n",
       "    .dataframe thead th {\n",
       "        text-align: right;\n",
       "    }\n",
       "</style>\n",
       "<table border=\"1\" class=\"dataframe\">\n",
       "  <thead>\n",
       "    <tr style=\"text-align: right;\">\n",
       "      <th></th>\n",
       "      <th>Ebind_linear_grad_quad_fit</th>\n",
       "      <th>Ebind_average_grad</th>\n",
       "      <th>Ebind_average_intercept</th>\n",
       "      <th>Egrav_linear_grad_quad_fit</th>\n",
       "      <th>Egrav_average_grad</th>\n",
       "      <th>Egrav_average_intercept</th>\n",
       "      <th>Ehe_linear_grad_quad_fit</th>\n",
       "      <th>Ehe_average_grad</th>\n",
       "      <th>Ehe_average_intercept</th>\n",
       "      <th>Etot_linear_grad_quad_fit</th>\n",
       "      <th>Etot_average_grad</th>\n",
       "      <th>Etot_average_intercept</th>\n",
       "    </tr>\n",
       "  </thead>\n",
       "  <tbody>\n",
       "    <tr>\n",
       "      <th>0</th>\n",
       "      <td>0.001818</td>\n",
       "      <td>0.353743</td>\n",
       "      <td>-0.224266</td>\n",
       "      <td>0.000478</td>\n",
       "      <td>-0.281401</td>\n",
       "      <td>-0.17072</td>\n",
       "      <td>0.002258</td>\n",
       "      <td>0.424837</td>\n",
       "      <td>-0.226417</td>\n",
       "      <td>0.003204</td>\n",
       "      <td>0.647952</td>\n",
       "      <td>-0.265945</td>\n",
       "    </tr>\n",
       "    <tr>\n",
       "      <th>1</th>\n",
       "      <td>0.006063</td>\n",
       "      <td>0.353743</td>\n",
       "      <td>-0.224266</td>\n",
       "      <td>-0.001716</td>\n",
       "      <td>-0.281401</td>\n",
       "      <td>-0.17072</td>\n",
       "      <td>0.008775</td>\n",
       "      <td>0.424837</td>\n",
       "      <td>-0.226417</td>\n",
       "      <td>0.013445</td>\n",
       "      <td>0.647952</td>\n",
       "      <td>-0.265945</td>\n",
       "    </tr>\n",
       "    <tr>\n",
       "      <th>2</th>\n",
       "      <td>0.006712</td>\n",
       "      <td>0.353743</td>\n",
       "      <td>-0.224266</td>\n",
       "      <td>-0.024152</td>\n",
       "      <td>-0.281401</td>\n",
       "      <td>-0.17072</td>\n",
       "      <td>0.013040</td>\n",
       "      <td>0.424837</td>\n",
       "      <td>-0.226417</td>\n",
       "      <td>0.026373</td>\n",
       "      <td>0.647952</td>\n",
       "      <td>-0.265945</td>\n",
       "    </tr>\n",
       "  </tbody>\n",
       "</table>\n",
       "</div>"
      ],
      "text/plain": [
       "   Ebind_linear_grad_quad_fit  Ebind_average_grad  Ebind_average_intercept  \\\n",
       "0                    0.001818            0.353743                -0.224266   \n",
       "1                    0.006063            0.353743                -0.224266   \n",
       "2                    0.006712            0.353743                -0.224266   \n",
       "\n",
       "   Egrav_linear_grad_quad_fit  Egrav_average_grad  Egrav_average_intercept  \\\n",
       "0                    0.000478           -0.281401                 -0.17072   \n",
       "1                   -0.001716           -0.281401                 -0.17072   \n",
       "2                   -0.024152           -0.281401                 -0.17072   \n",
       "\n",
       "   Ehe_linear_grad_quad_fit  Ehe_average_grad  Ehe_average_intercept  \\\n",
       "0                  0.002258          0.424837              -0.226417   \n",
       "1                  0.008775          0.424837              -0.226417   \n",
       "2                  0.013040          0.424837              -0.226417   \n",
       "\n",
       "   Etot_linear_grad_quad_fit  Etot_average_grad  Etot_average_intercept  \n",
       "0                   0.003204           0.647952               -0.265945  \n",
       "1                   0.013445           0.647952               -0.265945  \n",
       "2                   0.026373           0.647952               -0.265945  "
      ]
     },
     "execution_count": 50,
     "metadata": {},
     "output_type": "execute_result"
    }
   ],
   "source": [
    "data = pd.read_csv('/home/lewis/Documents/Honours_Research/data/csv/Lambda/final_params.csv')\n",
    "data"
   ]
  },
  {
   "cell_type": "code",
   "execution_count": 85,
   "id": "c3a4a98b",
   "metadata": {},
   "outputs": [
    {
     "name": "stdout",
     "output_type": "stream",
     "text": [
      "                             Quad_param  Average_grad  Average_intercept\n",
      "Egrav  [0.000478, -0.001716, -0.024152]     -0.281401          -0.170720\n",
      "Ebind    [0.001818, 0.006063, 0.006712]      0.353743          -0.224266\n",
      "Ehe       [0.002258, 0.008775, 0.01304]      0.424837          -0.226417\n",
      "Etot     [0.003204, 0.013445, 0.026373]      0.647952          -0.265945\n"
     ]
    },
    {
     "data": {
      "text/plain": [
       "0.000478"
      ]
     },
     "execution_count": 85,
     "metadata": {},
     "output_type": "execute_result"
    }
   ],
   "source": [
    "data = {\n",
    "    'Quad_param': [[0.000478, -0.001716 , -0.024152],[0.001818,0.006063,0.006712],[0.002258,0.008775,0.013040],[0.003204,0.013445,0.026373]],\n",
    "    'Average_grad': [-0.281401, 0.353743, 0.424837, 0.647952],\n",
    "    'Average_intercept':[-0.17072,-0.224266,-0.226417,-0.265945],\n",
    "}\n",
    "\n",
    "# Specify custom row labels\n",
    "row_labels = ['Egrav', 'Ebind', 'Ehe', 'Etot']\n",
    "\n",
    "# Create the DataFrame with custom row labels\n",
    "df = pd.DataFrame(data, index=row_labels)\n",
    "df.to_csv('/home/lewis/Documents/Honours_Research/data/csv/Table/Lambda.csv', sep=',')\n",
    "# Display the DataFrame\n",
    "print(df)\n",
    "df.Quad_param[0][0]"
   ]
  },
  {
   "cell_type": "code",
   "execution_count": null,
   "id": "61a8e700",
   "metadata": {},
   "outputs": [],
   "source": []
  }
 ],
 "metadata": {
  "kernelspec": {
   "display_name": "Python 3",
   "language": "python",
   "name": "python3"
  },
  "language_info": {
   "codemirror_mode": {
    "name": "ipython",
    "version": 3
   },
   "file_extension": ".py",
   "mimetype": "text/x-python",
   "name": "python",
   "nbconvert_exporter": "python",
   "pygments_lexer": "ipython3",
   "version": "3.7.6"
  }
 },
 "nbformat": 4,
 "nbformat_minor": 5
}
