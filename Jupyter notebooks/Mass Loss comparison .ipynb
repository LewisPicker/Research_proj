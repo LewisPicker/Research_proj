{
 "cells": [
  {
   "cell_type": "code",
   "execution_count": 28,
   "id": "aa7fc73e",
   "metadata": {},
   "outputs": [],
   "source": [
    "import numpy as np\n",
    "import matplotlib.pyplot as plt\n",
    "import mesa_reader as mr \n",
    "import pandas as pd\n",
    "\n",
    "rsol = 6.96e10 #cm\n",
    "msol = 1.989e33 #grams\n",
    "lsol = 3.839e33 #ergs\n",
    "\n",
    "def linear(xdata, m, b):\n",
    "    return m*xdata + b"
   ]
  },
  {
   "cell_type": "code",
   "execution_count": 26,
   "id": "3ecb5e22",
   "metadata": {},
   "outputs": [
    {
     "data": {
      "image/png": "[encoded data removed]",
      "text/plain": [
       "<Figure size 432x288 with 1 Axes>"
      ]
     },
     "metadata": {
      "needs_background": "light"
     },
     "output_type": "display_data"
    },
    {
     "data": {
      "image/png": "[encoded data removed]",
      "text/plain": [
       "<Figure size 432x288 with 1 Axes>"
      ]
     },
     "metadata": {
      "needs_background": "light"
     },
     "output_type": "display_data"
    }
   ],
   "source": [
    "z_dir = ['1Z/','001Z/']\n",
    "m_dir = ['10M/','15M/', '20M/']\n",
    "path = '/home/lewis/Documents/Honours_Research/data/LOGS/Updated_overshoot/'\n",
    "wind_path = '/home/lewis/Documents/Honours_Research/data/LOGS/Wind/Manual/'\n",
    "star_mass = [10,15,20]\n",
    "for z in z_dir: \n",
    "    gamma_list = []\n",
    "    M_inter_list =[]\n",
    "    gamma_list_wind = []\n",
    "    M_inter_list_wind =[]\n",
    "    for m in m_dir:\n",
    "        data = mr.MesaData(path + z + m + 'history.data')\n",
    "        gamma_list.append((data.M_inter[-1]/msol)/data.he_core_mass[-1])\n",
    "        M_inter_list.append(data.M_inter[-1]/msol)\n",
    "        \n",
    "        data = mr.MesaData(wind_path + z + m + 'history.data')\n",
    "        gamma_list_wind.append((data.M_inter[-1]/msol)/data.he_core_mass[-1])\n",
    "        M_inter_list_wind.append(data.M_inter[-1]/msol)\n",
    "        \n",
    "    plt.scatter(star_mass, gamma_list, label = 'no mass loss', c = 'r')\n",
    "    plt.scatter(star_mass, gamma_list_wind, label = 'mass lost', c = 'b')\n",
    "    plt.legend()\n",
    "    plt.xlabel('Star mass')\n",
    "    plt.ylabel('$M_\\mathrm{inter,f}/M_\\mathrm{core,f}$')\n",
    "    if z == '1Z/':\n",
    "        plt.title('$1Z_\\odot$')\n",
    "        plt.savefig('/home/lewis/Documents/Honours_Research/data/plots/Plots_for_paper/1Z_Minter.pdf',bbox_inches = 'tight')\n",
    "    else:\n",
    "        plt.title('$001Z_\\odot$')\n",
    "        plt.savefig('/home/lewis/Documents/Honours_Research/data/plots/Plots_for_paper/001Z_Minter.pdf',bbox_inches = 'tight')\n",
    "\n",
    "    plt.show()"
   ]
  },
  {
   "cell_type": "code",
   "execution_count": 24,
   "id": "e56f2eb3",
   "metadata": {},
   "outputs": [
    {
     "data": {
      "text/plain": [
       "array([0.06611263, 0.18189393, 0.30452997, 0.6857123 ])"
      ]
     },
     "execution_count": 24,
     "metadata": {},
     "output_type": "execute_result"
    }
   ],
   "source": [
    "np.abs(np.array(gamma_list)-np.array(gamma_list_wind))/np.array(gamma_list)"
   ]
  },
  {
   "cell_type": "code",
   "execution_count": 19,
   "id": "3d8b877c",
   "metadata": {},
   "outputs": [
    {
     "data": {
      "text/plain": [
       "array([0.05973407, 0.09031947, 0.12217799, 1.12181952])"
      ]
     },
     "execution_count": 19,
     "metadata": {},
     "output_type": "execute_result"
    }
   ],
   "source": [
    "np.array(gamma_list_wind)"
   ]
  },
  {
   "cell_type": "code",
   "execution_count": 20,
   "id": "3f02cf3a",
   "metadata": {},
   "outputs": [
    {
     "data": {
      "text/plain": [
       "array([0.06396282, 0.07641927, 0.09365671, 0.66548694])"
      ]
     },
     "execution_count": 20,
     "metadata": {},
     "output_type": "execute_result"
    }
   ],
   "source": [
    "np.array(gamma_list)"
   ]
  },
  {
   "cell_type": "code",
   "execution_count": 30,
   "id": "e221f6bc",
   "metadata": {},
   "outputs": [
    {
     "data": {
      "text/plain": [
       "0.08434437566297513"
      ]
     },
     "execution_count": 30,
     "metadata": {},
     "output_type": "execute_result"
    }
   ],
   "source": [
    "linear(np.log10(0.00014),-0.02090868,  0.003765)"
   ]
  },
  {
   "cell_type": "code",
   "execution_count": null,
   "id": "f4965de8",
   "metadata": {},
   "outputs": [],
   "source": []
  }
 ],
 "metadata": {
  "kernelspec": {
   "display_name": "Python 3",
   "language": "python",
   "name": "python3"
  },
  "language_info": {
   "codemirror_mode": {
    "name": "ipython",
    "version": 3
   },
   "file_extension": ".py",
   "mimetype": "text/x-python",
   "name": "python",
   "nbconvert_exporter": "python",
   "pygments_lexer": "ipython3",
   "version": "3.7.6"
  }
 },
 "nbformat": 4,
 "nbformat_minor": 5
}
